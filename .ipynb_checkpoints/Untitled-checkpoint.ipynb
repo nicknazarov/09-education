{
 "cells": [
  {
   "cell_type": "code",
   "execution_count": null,
   "metadata": {
    "collapsed": true
   },
   "outputs": [],
   "source": [
    "\n",
    "\n",
    "#s1 = load_data('/home/nazarov/07-competitions/04-Paribas/sub/2ndnbxgbtest.csv')\n",
    "#s2 = load_data('/home/nazarov/07-competitions/04-Paribas/sub/bnp-xgb-ks11.csv')\n",
    "#s3 = load_data('/home/nazarov/07-competitions/04-Paribas/sub/extra_trees.csv')\n",
    "#s4 = load_data('/home/nazarov/07-competitions/04-Paribas/sub/H2O_GBM.csv')\n",
    "#s5 = load_data('/home/nazarov/07-competitions/04-Paribas/sub/H2O_GBM_R.csv')\n",
    "#s6 = load_data('/home/nazarov/07-competitions/04-Paribas/sub/NNbench.csv')\n",
    "#s7 = load_data('/home/nazarov/07-competitions/04-Paribas/sub/ordinalxgbtest.csv')\n",
    "#s8 = load_data('/home/nazarov/07-competitions/04-Paribas/sub/random_forest_benchmark.csv')\n",
    "#s9 = load_data('/home/nazarov/07-competitions/04-Paribas/sub/rxgb.csv')\n",
    "#s10 = load_data('/home/nazarov/07-competitions/04-Paribas/sub/simpleblend.csv')\n",
    "#s11 = load_data('/home/nazarov/07-competitions/04-Paribas/sub/simple_sgd_result.csv')\n",
    "#s12 = load_data('/home/nazarov/07-competitions/04-Paribas/sub/submission.csv')\n",
    "#s13 = load_data('/home/nazarov/07-competitions/04-Paribas/sub/tenzorflow.csv')\n",
    "#s14 = load_data('/home/nazarov/07-competitions/04-Paribas/sub/XGB_200_0.01_11_0.96_0.45_1_1_0.49569_20160315T141042.csv')\n",
    "\n"
   ]
  },
  {
   "cell_type": "code",
   "execution_count": 106,
   "metadata": {
    "collapsed": false
   },
   "outputs": [],
   "source": [
    "import glob\n",
    "import pandas as pd # data processing, CSV file I/O (e.g. pd.read_csv)\n",
    "path =r'/home/nazarov/07-competitions/04-Paribas/sub/' # use your path\n",
    "allFiles = glob.glob(path + \"/*.csv\")\n",
    "\n",
    "frame = pd.DataFrame()\n",
    "list_ = []\n",
    "for file_ in allFiles:\n",
    "    df = pd.read_csv(file_,index_col='ID', header=0)\n",
    "   # print (df.shape)\n",
    "    #df.drop(['ID'], axis=1, inplace=True)\n",
    "    \n",
    "    list_.append(df)\n",
    "    \n",
    "frame = pd.concat(list_, axis=1)\n",
    "#frame.shape\n",
    "frame.columns = ['s1', 's2','s3','s4','s5','s6','s7','s8','s9','s10','s11','s12','s13','s14']"
   ]
  },
  {
   "cell_type": "code",
   "execution_count": 29,
   "metadata": {
    "collapsed": false
   },
   "outputs": [
    {
     "name": "stdout",
     "output_type": "stream",
     "text": [
      "Populating the interactive namespace from numpy and matplotlib\n"
     ]
    },
    {
     "data": {
      "text/plain": [
       "<matplotlib.image.AxesImage at 0x7fda8efdcb00>"
      ]
     },
     "execution_count": 29,
     "metadata": {},
     "output_type": "execute_result"
    },
    {
     "data": {
      "image/png": "[encoded data removed]",
      "text/plain": [
       "<matplotlib.figure.Figure at 0x7fda8f2ad198>"
      ]
     },
     "metadata": {},
     "output_type": "display_data"
    }
   ],
   "source": [
    "    %pylab inline\n",
    "    import matplotlib.pyplot as plt\n",
    "    threshold = 0\n",
    "    corr = frame.corr()\n",
    "    corr[corr<threshold] = np.nan\n",
    "    fig, ax = plt.subplots(figsize=(14, 14))\n",
    "    ax.matshow(corr)"
   ]
  },
  {
   "cell_type": "code",
   "execution_count": 78,
   "metadata": {
    "collapsed": false
   },
   "outputs": [
    {
     "data": {
      "text/html": [
       "<div>\n",
       "<table border=\"1\" class=\"dataframe\">\n",
       "  <thead>\n",
       "    <tr style=\"text-align: right;\">\n",
       "      <th></th>\n",
       "      <th>s1</th>\n",
       "      <th>s2</th>\n",
       "      <th>s3</th>\n",
       "      <th>s4</th>\n",
       "      <th>s5</th>\n",
       "      <th>s6</th>\n",
       "      <th>s7</th>\n",
       "      <th>s8</th>\n",
       "      <th>s9</th>\n",
       "      <th>s10</th>\n",
       "      <th>s12</th>\n",
       "      <th>s13</th>\n",
       "      <th>s14</th>\n",
       "    </tr>\n",
       "  </thead>\n",
       "  <tbody>\n",
       "    <tr>\n",
       "      <th>s1</th>\n",
       "      <td>NaN</td>\n",
       "      <td>NaN</td>\n",
       "      <td>NaN</td>\n",
       "      <td>0.479155</td>\n",
       "      <td>NaN</td>\n",
       "      <td>0.445986</td>\n",
       "      <td>0.496042</td>\n",
       "      <td>0.300363</td>\n",
       "      <td>NaN</td>\n",
       "      <td>NaN</td>\n",
       "      <td>0.499772</td>\n",
       "      <td>NaN</td>\n",
       "      <td>NaN</td>\n",
       "    </tr>\n",
       "    <tr>\n",
       "      <th>s2</th>\n",
       "      <td>NaN</td>\n",
       "      <td>NaN</td>\n",
       "      <td>NaN</td>\n",
       "      <td>NaN</td>\n",
       "      <td>NaN</td>\n",
       "      <td>NaN</td>\n",
       "      <td>NaN</td>\n",
       "      <td>0.312305</td>\n",
       "      <td>NaN</td>\n",
       "      <td>NaN</td>\n",
       "      <td>NaN</td>\n",
       "      <td>NaN</td>\n",
       "      <td>NaN</td>\n",
       "    </tr>\n",
       "    <tr>\n",
       "      <th>s3</th>\n",
       "      <td>NaN</td>\n",
       "      <td>NaN</td>\n",
       "      <td>NaN</td>\n",
       "      <td>NaN</td>\n",
       "      <td>NaN</td>\n",
       "      <td>NaN</td>\n",
       "      <td>NaN</td>\n",
       "      <td>0.277105</td>\n",
       "      <td>NaN</td>\n",
       "      <td>NaN</td>\n",
       "      <td>NaN</td>\n",
       "      <td>NaN</td>\n",
       "      <td>NaN</td>\n",
       "    </tr>\n",
       "    <tr>\n",
       "      <th>s4</th>\n",
       "      <td>0.479155</td>\n",
       "      <td>NaN</td>\n",
       "      <td>NaN</td>\n",
       "      <td>NaN</td>\n",
       "      <td>NaN</td>\n",
       "      <td>NaN</td>\n",
       "      <td>NaN</td>\n",
       "      <td>0.098147</td>\n",
       "      <td>NaN</td>\n",
       "      <td>NaN</td>\n",
       "      <td>NaN</td>\n",
       "      <td>NaN</td>\n",
       "      <td>NaN</td>\n",
       "    </tr>\n",
       "    <tr>\n",
       "      <th>s5</th>\n",
       "      <td>NaN</td>\n",
       "      <td>NaN</td>\n",
       "      <td>NaN</td>\n",
       "      <td>NaN</td>\n",
       "      <td>NaN</td>\n",
       "      <td>NaN</td>\n",
       "      <td>NaN</td>\n",
       "      <td>0.256609</td>\n",
       "      <td>NaN</td>\n",
       "      <td>NaN</td>\n",
       "      <td>NaN</td>\n",
       "      <td>NaN</td>\n",
       "      <td>NaN</td>\n",
       "    </tr>\n",
       "    <tr>\n",
       "      <th>s6</th>\n",
       "      <td>0.445986</td>\n",
       "      <td>NaN</td>\n",
       "      <td>NaN</td>\n",
       "      <td>NaN</td>\n",
       "      <td>NaN</td>\n",
       "      <td>NaN</td>\n",
       "      <td>NaN</td>\n",
       "      <td>0.212646</td>\n",
       "      <td>NaN</td>\n",
       "      <td>NaN</td>\n",
       "      <td>NaN</td>\n",
       "      <td>NaN</td>\n",
       "      <td>NaN</td>\n",
       "    </tr>\n",
       "    <tr>\n",
       "      <th>s7</th>\n",
       "      <td>0.496042</td>\n",
       "      <td>NaN</td>\n",
       "      <td>NaN</td>\n",
       "      <td>NaN</td>\n",
       "      <td>NaN</td>\n",
       "      <td>NaN</td>\n",
       "      <td>NaN</td>\n",
       "      <td>0.239183</td>\n",
       "      <td>NaN</td>\n",
       "      <td>NaN</td>\n",
       "      <td>NaN</td>\n",
       "      <td>NaN</td>\n",
       "      <td>NaN</td>\n",
       "    </tr>\n",
       "    <tr>\n",
       "      <th>s8</th>\n",
       "      <td>0.300363</td>\n",
       "      <td>0.312305</td>\n",
       "      <td>0.277105</td>\n",
       "      <td>0.098147</td>\n",
       "      <td>0.256609</td>\n",
       "      <td>0.212646</td>\n",
       "      <td>0.239183</td>\n",
       "      <td>NaN</td>\n",
       "      <td>0.2646</td>\n",
       "      <td>0.258845</td>\n",
       "      <td>0.243917</td>\n",
       "      <td>0.249967</td>\n",
       "      <td>0.260442</td>\n",
       "    </tr>\n",
       "    <tr>\n",
       "      <th>s9</th>\n",
       "      <td>NaN</td>\n",
       "      <td>NaN</td>\n",
       "      <td>NaN</td>\n",
       "      <td>NaN</td>\n",
       "      <td>NaN</td>\n",
       "      <td>NaN</td>\n",
       "      <td>NaN</td>\n",
       "      <td>0.264600</td>\n",
       "      <td>NaN</td>\n",
       "      <td>NaN</td>\n",
       "      <td>NaN</td>\n",
       "      <td>NaN</td>\n",
       "      <td>NaN</td>\n",
       "    </tr>\n",
       "    <tr>\n",
       "      <th>s10</th>\n",
       "      <td>NaN</td>\n",
       "      <td>NaN</td>\n",
       "      <td>NaN</td>\n",
       "      <td>NaN</td>\n",
       "      <td>NaN</td>\n",
       "      <td>NaN</td>\n",
       "      <td>NaN</td>\n",
       "      <td>0.258845</td>\n",
       "      <td>NaN</td>\n",
       "      <td>NaN</td>\n",
       "      <td>NaN</td>\n",
       "      <td>NaN</td>\n",
       "      <td>NaN</td>\n",
       "    </tr>\n",
       "    <tr>\n",
       "      <th>s12</th>\n",
       "      <td>0.499772</td>\n",
       "      <td>NaN</td>\n",
       "      <td>NaN</td>\n",
       "      <td>NaN</td>\n",
       "      <td>NaN</td>\n",
       "      <td>NaN</td>\n",
       "      <td>NaN</td>\n",
       "      <td>0.243917</td>\n",
       "      <td>NaN</td>\n",
       "      <td>NaN</td>\n",
       "      <td>NaN</td>\n",
       "      <td>NaN</td>\n",
       "      <td>NaN</td>\n",
       "    </tr>\n",
       "    <tr>\n",
       "      <th>s13</th>\n",
       "      <td>NaN</td>\n",
       "      <td>NaN</td>\n",
       "      <td>NaN</td>\n",
       "      <td>NaN</td>\n",
       "      <td>NaN</td>\n",
       "      <td>NaN</td>\n",
       "      <td>NaN</td>\n",
       "      <td>0.249967</td>\n",
       "      <td>NaN</td>\n",
       "      <td>NaN</td>\n",
       "      <td>NaN</td>\n",
       "      <td>NaN</td>\n",
       "      <td>NaN</td>\n",
       "    </tr>\n",
       "    <tr>\n",
       "      <th>s14</th>\n",
       "      <td>NaN</td>\n",
       "      <td>NaN</td>\n",
       "      <td>NaN</td>\n",
       "      <td>NaN</td>\n",
       "      <td>NaN</td>\n",
       "      <td>NaN</td>\n",
       "      <td>NaN</td>\n",
       "      <td>0.260442</td>\n",
       "      <td>NaN</td>\n",
       "      <td>NaN</td>\n",
       "      <td>NaN</td>\n",
       "      <td>NaN</td>\n",
       "      <td>NaN</td>\n",
       "    </tr>\n",
       "  </tbody>\n",
       "</table>\n",
       "</div>"
      ],
      "text/plain": [
       "           s1        s2        s3        s4        s5        s6        s7  \\\n",
       "s1        NaN       NaN       NaN  0.479155       NaN  0.445986  0.496042   \n",
       "s2        NaN       NaN       NaN       NaN       NaN       NaN       NaN   \n",
       "s3        NaN       NaN       NaN       NaN       NaN       NaN       NaN   \n",
       "s4   0.479155       NaN       NaN       NaN       NaN       NaN       NaN   \n",
       "s5        NaN       NaN       NaN       NaN       NaN       NaN       NaN   \n",
       "s6   0.445986       NaN       NaN       NaN       NaN       NaN       NaN   \n",
       "s7   0.496042       NaN       NaN       NaN       NaN       NaN       NaN   \n",
       "s8   0.300363  0.312305  0.277105  0.098147  0.256609  0.212646  0.239183   \n",
       "s9        NaN       NaN       NaN       NaN       NaN       NaN       NaN   \n",
       "s10       NaN       NaN       NaN       NaN       NaN       NaN       NaN   \n",
       "s12  0.499772       NaN       NaN       NaN       NaN       NaN       NaN   \n",
       "s13       NaN       NaN       NaN       NaN       NaN       NaN       NaN   \n",
       "s14       NaN       NaN       NaN       NaN       NaN       NaN       NaN   \n",
       "\n",
       "           s8      s9       s10       s12       s13       s14  \n",
       "s1   0.300363     NaN       NaN  0.499772       NaN       NaN  \n",
       "s2   0.312305     NaN       NaN       NaN       NaN       NaN  \n",
       "s3   0.277105     NaN       NaN       NaN       NaN       NaN  \n",
       "s4   0.098147     NaN       NaN       NaN       NaN       NaN  \n",
       "s5   0.256609     NaN       NaN       NaN       NaN       NaN  \n",
       "s6   0.212646     NaN       NaN       NaN       NaN       NaN  \n",
       "s7   0.239183     NaN       NaN       NaN       NaN       NaN  \n",
       "s8        NaN  0.2646  0.258845  0.243917  0.249967  0.260442  \n",
       "s9   0.264600     NaN       NaN       NaN       NaN       NaN  \n",
       "s10  0.258845     NaN       NaN       NaN       NaN       NaN  \n",
       "s12  0.243917     NaN       NaN       NaN       NaN       NaN  \n",
       "s13  0.249967     NaN       NaN       NaN       NaN       NaN  \n",
       "s14  0.260442     NaN       NaN       NaN       NaN       NaN  "
      ]
     },
     "execution_count": 78,
     "metadata": {},
     "output_type": "execute_result"
    }
   ],
   "source": [
    "corr = frame.corr()\n",
    "threshold = 0.5\n",
    "corr[corr>threshold] = np.nan\n",
    "corr "
   ]
  },
  {
   "cell_type": "code",
   "execution_count": 76,
   "metadata": {
    "collapsed": false
   },
   "outputs": [],
   "source": [
    "'''\n",
    "from __future__ import division\n",
    "from collections import defaultdict\n",
    "#from glob import glob\n",
    "import glob\n",
    "import sys\n",
    "\n",
    "path =r'/home/nazarov/07-competitions/04-Paribas/sub/' # use your path\n",
    "glob_files = glob.glob(path + \"/*.csv\")\n",
    "loc_outfile = '/home/nazarov/07-competitions/04-Paribas/result.csv'\n",
    "#glob_files = sys.argv[1]\n",
    "#print (glob_files)\n",
    "#loc_outfile = sys.argv[2]\n",
    "\n",
    "def kaggle_bag(glob_files, loc_outfile):\n",
    "  with open(loc_outfile,\"wb\") as outfile:\n",
    "    all_ranks = defaultdict(list)\n",
    "    for i, glob_file in enumerate( glob(glob_files) ):\n",
    "      file_ranks = []\n",
    "      print (\"parsing:\", glob_file)\n",
    "      # sort glob_file by first column, ignoring the first line\n",
    "      lines = open(glob_file).readlines()\n",
    "      lines = [lines[0]] + sorted(lines[1:])\n",
    "      for e, line in enumerate( lines ):\n",
    "        if e == 0 and i == 0:\n",
    "          outfile.write( line )\n",
    "        elif e > 0:\n",
    "          r = line.strip().split(\",\")\n",
    "          file_ranks.append( (float(r[1]), e, r[0]) )\n",
    "      for rank, item in enumerate( sorted(file_ranks) ):\n",
    "        all_ranks[(item[1],item[2])].append(rank)\n",
    "    average_ranks = []\n",
    "    for k in sorted(all_ranks):\n",
    "      average_ranks.append((sum(all_ranks[k])/len(all_ranks[k]),k))\n",
    "    ranked_ranks = []\n",
    "    for rank, k in enumerate(sorted(average_ranks)):\n",
    "      ranked_ranks.append((k[1][0],k[1][1],rank/(len(average_ranks)-1)))\n",
    "    for k in sorted(ranked_ranks):\n",
    "      outfile.write(\"%s,%s\\n\"%(k[1],k[2]))\n",
    "    print(\"wrote to %s\"%loc_outfile)\n",
    "\n",
    "#kaggle_bag(glob_files, loc_outfile)\n",
    "'''"
   ]
  },
  {
   "cell_type": "markdown",
   "metadata": {},
   "source": [
    "# Simple avereging"
   ]
  },
  {
   "cell_type": "code",
   "execution_count": 40,
   "metadata": {
    "collapsed": false
   },
   "outputs": [],
   "source": [
    "#frame.drop(['s11'], axes=1, inplace=True)\n"
   ]
  },
  {
   "cell_type": "code",
   "execution_count": 66,
   "metadata": {
    "collapsed": false
   },
   "outputs": [
    {
     "data": {
      "text/plain": [
       "pandas.core.frame.DataFrame"
      ]
     },
     "execution_count": 66,
     "metadata": {},
     "output_type": "execute_result"
    }
   ],
   "source": [
    "av_res =pd.DataFrame(frame.mean(axis=1))\n",
    "#av_res.shape\n",
    "type(av_res)"
   ]
  },
  {
   "cell_type": "code",
   "execution_count": 75,
   "metadata": {
    "collapsed": false
   },
   "outputs": [
    {
     "name": "stderr",
     "output_type": "stream",
     "text": [
      "/home/nazarov/anaconda3/lib/python3.5/site-packages/ipykernel/__main__.py:1: FutureWarning: icol(i) is deprecated. Please use .iloc[:,i]\n",
      "  if __name__ == '__main__':\n"
     ]
    }
   ],
   "source": [
    "submission = pd.DataFrame({\"ID\": av_res.index,  \"PredictedProb\": av_res.icol(0)})\n",
    "#av_res[av_res.columns[0]]\n",
    "#av_res.icol(0)\n",
    "submission.to_csv(\"/home/nazarov/07-competitions/04-Paribas/simple_aver.csv\", index=False)"
   ]
  },
  {
   "cell_type": "markdown",
   "metadata": {},
   "source": [
    "## Only uncorr predictions with threshold = 0.5"
   ]
  },
  {
   "cell_type": "code",
   "execution_count": 89,
   "metadata": {
    "collapsed": false
   },
   "outputs": [
    {
     "name": "stderr",
     "output_type": "stream",
     "text": [
      "/home/nazarov/anaconda3/lib/python3.5/site-packages/sklearn/decomposition/factor_analysis.py:224: ConvergenceWarning: FactorAnalysis did not converge. You might want to increase the number of iterations.\n",
      "  ConvergenceWarning)\n"
     ]
    }
   ],
   "source": [
    "import pandas as pd\n",
    "from sklearn.decomposition import FactorAnalysis\n",
    "\n",
    "factor = FactorAnalysis(n_components=7,  random_state=101).fit(frame)\n",
    "\n",
    "#print (pd.DataFrame(factor.components_,columns=frame))\n",
    " \n"
   ]
  },
  {
   "cell_type": "code",
   "execution_count": 90,
   "metadata": {
    "collapsed": false
   },
   "outputs": [
    {
     "name": "stdout",
     "output_type": "stream",
     "text": [
      "         s1        s2        s3        s4        s5        s6        s7  \\\n",
      "0 -0.080933 -0.134299 -0.138152 -0.121410 -0.096908 -0.001647 -0.170711   \n",
      "1 -0.017212 -0.042875  0.017948 -0.096703  0.001587  0.000165  0.023820   \n",
      "2  0.009659  0.004453  0.012566 -0.014064  0.005183 -0.000018 -0.058913   \n",
      "3  0.009970 -0.008104  0.014085  0.008419 -0.006389 -0.000253  0.003981   \n",
      "4  0.049901  0.033478  0.016249 -0.010641 -0.002812 -0.000094  0.001016   \n",
      "5  0.009576  0.010766 -0.037967 -0.005540  0.005109 -0.000065  0.002713   \n",
      "6  0.033245 -0.006536 -0.002236  0.002289 -0.001633  0.000213  0.000660   \n",
      "\n",
      "         s8        s9       s10       s12       s13       s14  \n",
      "0 -0.017000 -0.160768 -0.110519 -0.136030 -0.103659 -0.094644  \n",
      "1  0.006550  0.011472  0.010854 -0.001788 -0.008369  0.002446  \n",
      "2  0.004349  0.009081  0.017958 -0.006313  0.012322  0.007214  \n",
      "3 -0.003189 -0.011302  0.017166  0.022788 -0.001835 -0.007199  \n",
      "4  0.028659  0.003435 -0.002597  0.006545  0.003003 -0.002818  \n",
      "5  0.003892 -0.022776  0.004962 -0.009348  0.010114 -0.000924  \n",
      "6 -0.000013  0.000636  0.001028 -0.013773 -0.003639  0.000785  \n"
     ]
    }
   ],
   "source": [
    "print (pd.DataFrame(factor.components_,columns=frame.columns))"
   ]
  },
  {
   "cell_type": "code",
   "execution_count": 97,
   "metadata": {
    "collapsed": false
   },
   "outputs": [],
   "source": [
    "uncorr_df = frame[['s1','s8','s4']]\n",
    "\n",
    "av_res_3 =pd.DataFrame(uncorr_df.mean(axis=1))\n",
    "\n",
    "\n",
    "submission = pd.DataFrame({\"ID\": av_res_3.index,  \"PredictedProb\": av_res_3.iloc[:,0]})\n",
    "#av_res[av_res.columns[0]]\n",
    "#av_res.icol(0)\n",
    "submission.to_csv(\"/home/nazarov/07-competitions/04-Paribas/simple_aver_3.csv\", index=False)\n"
   ]
  },
  {
   "cell_type": "code",
   "execution_count": 28,
   "metadata": {
    "collapsed": false
   },
   "outputs": [],
   "source": [
    "'''\n",
    "from collections import defaultdict\n",
    "from glob import glob\n",
    "import sys\n",
    "\n",
    "glob_files = sys.argv[1]\n",
    "loc_outfile = sys.argv[2]\n",
    "\n",
    "def kaggle_bag(glob_files, loc_outfile, method=\"average\", weights=\"uniform\"):\n",
    "  if method == \"average\":\n",
    "    scores = defaultdict(float)\n",
    "  with open(loc_outfile,\"wb\") as outfile:\n",
    "    for i, glob_file in enumerate( glob(glob_files) ):\n",
    "      print (\"parsing:\", glob_file)\n",
    "      # sort glob_file by first column, ignoring the first line\n",
    "      lines = open(glob_file).readlines()\n",
    "      lines = [lines[0]] + sorted(lines[1:])\n",
    "      for e, line in enumerate( lines ):\n",
    "        if i == 0 and e == 0:\n",
    "          outfile.write(line)\n",
    "        if e > 0:\n",
    "          row = line.strip().split(\",\")\n",
    "          scores[(e,row[0])] += float(row[1])\n",
    "    for j,k in sorted(scores):\n",
    "      outfile.write(\"%s,%f\\n\"%(k,scores[(j,k)]/(i+1)))\n",
    "    print(\"wrote to %s\"%loc_outfile)\n",
    "\n",
    "#kaggle_bag(glob_files, loc_outfile)\n",
    "'''"
   ]
  },
  {
   "cell_type": "markdown",
   "metadata": {},
   "source": [
    "# Geom avereging"
   ]
  },
  {
   "cell_type": "code",
   "execution_count": 110,
   "metadata": {
    "collapsed": false
   },
   "outputs": [],
   "source": [
    "from scipy.stats import gmean\n",
    "\n",
    "\n",
    "geom_av_res =pd.DataFrame(gmean(frame, axis=1))\n",
    "geom_av_res.index = frame.index\n",
    "\n",
    "submission = pd.DataFrame({\"ID\": geom_av_res.index,  \"PredictedProb\": geom_av_res.iloc[:,0]})\n",
    "#av_res[av_res.columns[0]]\n",
    "#av_res.icol(0)\n",
    "submission.to_csv(\"/home/nazarov/07-competitions/04-Paribas/geom_av_res.csv\", index=False)\n"
   ]
  },
  {
   "cell_type": "code",
   "execution_count": 104,
   "metadata": {
    "collapsed": false
   },
   "outputs": [
    {
     "data": {
      "text/html": [
       "<div>\n",
       "<table border=\"1\" class=\"dataframe\">\n",
       "  <thead>\n",
       "    <tr style=\"text-align: right;\">\n",
       "      <th></th>\n",
       "      <th>0</th>\n",
       "    </tr>\n",
       "  </thead>\n",
       "  <tbody>\n",
       "    <tr>\n",
       "      <th>count</th>\n",
       "      <td>114393.000000</td>\n",
       "    </tr>\n",
       "    <tr>\n",
       "      <th>mean</th>\n",
       "      <td>0.712724</td>\n",
       "    </tr>\n",
       "    <tr>\n",
       "      <th>std</th>\n",
       "      <td>0.108342</td>\n",
       "    </tr>\n",
       "    <tr>\n",
       "      <th>min</th>\n",
       "      <td>0.179024</td>\n",
       "    </tr>\n",
       "    <tr>\n",
       "      <th>25%</th>\n",
       "      <td>0.650052</td>\n",
       "    </tr>\n",
       "    <tr>\n",
       "      <th>50%</th>\n",
       "      <td>0.727348</td>\n",
       "    </tr>\n",
       "    <tr>\n",
       "      <th>75%</th>\n",
       "      <td>0.793592</td>\n",
       "    </tr>\n",
       "    <tr>\n",
       "      <th>max</th>\n",
       "      <td>0.896826</td>\n",
       "    </tr>\n",
       "  </tbody>\n",
       "</table>\n",
       "</div>"
      ],
      "text/plain": [
       "                   0\n",
       "count  114393.000000\n",
       "mean        0.712724\n",
       "std         0.108342\n",
       "min         0.179024\n",
       "25%         0.650052\n",
       "50%         0.727348\n",
       "75%         0.793592\n",
       "max         0.896826"
      ]
     },
     "execution_count": 104,
     "metadata": {},
     "output_type": "execute_result"
    }
   ],
   "source": [
    "geom_av_res.describe()"
   ]
  },
  {
   "cell_type": "code",
   "execution_count": null,
   "metadata": {
    "collapsed": true
   },
   "outputs": [],
   "source": [
    "'''\n",
    "from __future__ import division\n",
    "from collections import defaultdict\n",
    "from glob import glob\n",
    "import sys\n",
    "import math\n",
    "\n",
    "glob_files = sys.argv[1]\n",
    "loc_outfile = sys.argv[2]\n",
    "\n",
    "def kaggle_bag(glob_files, loc_outfile, method=\"average\", weights=\"uniform\"):\n",
    "  if method == \"average\":\n",
    "    scores = defaultdict(float)\n",
    "  with open(loc_outfile,\"wb\") as outfile:\n",
    "    for i, glob_file in enumerate( glob(glob_files) ):\n",
    "      print \"parsing:\", glob_file\n",
    "      # sort glob_file by first column, ignoring the first line\n",
    "      lines = open(glob_file).readlines()\n",
    "      lines = [lines[0]] + sorted(lines[1:])\n",
    "      for e, line in enumerate( lines ):\n",
    "        if i == 0 and e == 0:\n",
    "          outfile.write(line)\n",
    "        if e > 0:\n",
    "          row = line.strip().split(\",\")\n",
    "          if scores[(e,row[0])] == 0:\n",
    "            scores[(e,row[0])] = 1\n",
    "          scores[(e,row[0])] *= float(row[1])\n",
    "    for j,k in sorted(scores):\n",
    "      outfile.write(\"%s,%f\\n\"%(k,math.pow(scores[(j,k)],1/(i+1))))\n",
    "    print(\"wrote to %s\"%loc_outfile)\n",
    "\n",
    "#kaggle_bag(glob_files, loc_outfile)\n",
    "'''\n"
   ]
  },
  {
   "cell_type": "markdown",
   "metadata": {},
   "source": [
    "# Only good prediction"
   ]
  },
  {
   "cell_type": "code",
   "execution_count": 111,
   "metadata": {
    "collapsed": true
   },
   "outputs": [],
   "source": [
    "import glob\n",
    "import pandas as pd # data processing, CSV file I/O (e.g. pd.read_csv)\n",
    "path =r'/home/nazarov/07-competitions/04-Paribas/sub2/' # use your path\n",
    "allFiles = glob.glob(path + \"/*.csv\")\n",
    "\n",
    "frame = pd.DataFrame()\n",
    "list_ = []\n",
    "for file_ in allFiles:\n",
    "    df = pd.read_csv(file_,index_col='ID', header=0)\n",
    "   # print (df.shape)\n",
    "    #df.drop(['ID'], axis=1, inplace=True)\n",
    "    \n",
    "    list_.append(df)\n",
    "    \n",
    "frame = pd.concat(list_, axis=1)\n",
    "#frame.shape\n",
    "frame.columns = ['s1', 's2','s3','s4']\n",
    "\n",
    "\n",
    "\n",
    "geom_av_res_2 =pd.DataFrame(gmean(frame, axis=1))\n",
    "geom_av_res_2.index = frame.index\n",
    "\n",
    "submission = pd.DataFrame({\"ID\": geom_av_res_2.index,  \"PredictedProb\": geom_av_res_2.iloc[:,0]})\n",
    "#av_res[av_res.columns[0]]\n",
    "#av_res.icol(0)\n",
    "submission.to_csv(\"/home/nazarov/07-competitions/04-Paribas/geom_av_res_4.csv\", index=False)\n"
   ]
  },
  {
   "cell_type": "markdown",
   "metadata": {},
   "source": [
    "# Ranking"
   ]
  },
  {
   "cell_type": "code",
   "execution_count": 120,
   "metadata": {
    "collapsed": true
   },
   "outputs": [],
   "source": [
    "rank_frame = frame.rank(axis=0,)"
   ]
  },
  {
   "cell_type": "code",
   "execution_count": 122,
   "metadata": {
    "collapsed": false
   },
   "outputs": [
    {
     "data": {
      "text/html": [
       "<div>\n",
       "<table border=\"1\" class=\"dataframe\">\n",
       "  <thead>\n",
       "    <tr style=\"text-align: right;\">\n",
       "      <th></th>\n",
       "      <th>s1</th>\n",
       "      <th>s2</th>\n",
       "      <th>s3</th>\n",
       "      <th>s4</th>\n",
       "    </tr>\n",
       "    <tr>\n",
       "      <th>ID</th>\n",
       "      <th></th>\n",
       "      <th></th>\n",
       "      <th></th>\n",
       "      <th></th>\n",
       "    </tr>\n",
       "  </thead>\n",
       "  <tbody>\n",
       "    <tr>\n",
       "      <th>0</th>\n",
       "      <td>2593.0</td>\n",
       "      <td>1940.0</td>\n",
       "      <td>1352.0</td>\n",
       "      <td>2296.0</td>\n",
       "    </tr>\n",
       "    <tr>\n",
       "      <th>1</th>\n",
       "      <td>73084.0</td>\n",
       "      <td>90281.0</td>\n",
       "      <td>49599.0</td>\n",
       "      <td>67519.0</td>\n",
       "    </tr>\n",
       "    <tr>\n",
       "      <th>2</th>\n",
       "      <td>85951.0</td>\n",
       "      <td>83593.0</td>\n",
       "      <td>27159.0</td>\n",
       "      <td>51705.0</td>\n",
       "    </tr>\n",
       "    <tr>\n",
       "      <th>7</th>\n",
       "      <td>23067.0</td>\n",
       "      <td>41677.0</td>\n",
       "      <td>20263.0</td>\n",
       "      <td>16758.0</td>\n",
       "    </tr>\n",
       "    <tr>\n",
       "      <th>10</th>\n",
       "      <td>49998.0</td>\n",
       "      <td>62605.0</td>\n",
       "      <td>34342.0</td>\n",
       "      <td>45392.0</td>\n",
       "    </tr>\n",
       "  </tbody>\n",
       "</table>\n",
       "</div>"
      ],
      "text/plain": [
       "         s1       s2       s3       s4\n",
       "ID                                    \n",
       "0    2593.0   1940.0   1352.0   2296.0\n",
       "1   73084.0  90281.0  49599.0  67519.0\n",
       "2   85951.0  83593.0  27159.0  51705.0\n",
       "7   23067.0  41677.0  20263.0  16758.0\n",
       "10  49998.0  62605.0  34342.0  45392.0"
      ]
     },
     "execution_count": 122,
     "metadata": {},
     "output_type": "execute_result"
    }
   ],
   "source": [
    "rank_frame.head()"
   ]
  },
  {
   "cell_type": "code",
   "execution_count": 127,
   "metadata": {
    "collapsed": false
   },
   "outputs": [
    {
     "data": {
      "text/html": [
       "<div>\n",
       "<table border=\"1\" class=\"dataframe\">\n",
       "  <thead>\n",
       "    <tr style=\"text-align: right;\">\n",
       "      <th></th>\n",
       "      <th>s1</th>\n",
       "      <th>s2</th>\n",
       "      <th>s3</th>\n",
       "      <th>s4</th>\n",
       "    </tr>\n",
       "  </thead>\n",
       "  <tbody>\n",
       "    <tr>\n",
       "      <th>count</th>\n",
       "      <td>114393.000000</td>\n",
       "      <td>114393.000000</td>\n",
       "      <td>114393.000000</td>\n",
       "      <td>114393.000000</td>\n",
       "    </tr>\n",
       "    <tr>\n",
       "      <th>mean</th>\n",
       "      <td>0.500002</td>\n",
       "      <td>0.500000</td>\n",
       "      <td>0.500000</td>\n",
       "      <td>0.500000</td>\n",
       "    </tr>\n",
       "    <tr>\n",
       "      <th>std</th>\n",
       "      <td>0.288680</td>\n",
       "      <td>0.288679</td>\n",
       "      <td>0.288679</td>\n",
       "      <td>0.288679</td>\n",
       "    </tr>\n",
       "    <tr>\n",
       "      <th>min</th>\n",
       "      <td>0.000000</td>\n",
       "      <td>0.000000</td>\n",
       "      <td>0.000000</td>\n",
       "      <td>0.000000</td>\n",
       "    </tr>\n",
       "    <tr>\n",
       "      <th>25%</th>\n",
       "      <td>0.250001</td>\n",
       "      <td>0.250000</td>\n",
       "      <td>0.250000</td>\n",
       "      <td>0.250000</td>\n",
       "    </tr>\n",
       "    <tr>\n",
       "      <th>50%</th>\n",
       "      <td>0.500002</td>\n",
       "      <td>0.500000</td>\n",
       "      <td>0.500000</td>\n",
       "      <td>0.500000</td>\n",
       "    </tr>\n",
       "    <tr>\n",
       "      <th>75%</th>\n",
       "      <td>0.750003</td>\n",
       "      <td>0.750000</td>\n",
       "      <td>0.750000</td>\n",
       "      <td>0.750000</td>\n",
       "    </tr>\n",
       "    <tr>\n",
       "      <th>max</th>\n",
       "      <td>1.000000</td>\n",
       "      <td>1.000000</td>\n",
       "      <td>1.000000</td>\n",
       "      <td>1.000000</td>\n",
       "    </tr>\n",
       "  </tbody>\n",
       "</table>\n",
       "</div>"
      ],
      "text/plain": [
       "                  s1             s2             s3             s4\n",
       "count  114393.000000  114393.000000  114393.000000  114393.000000\n",
       "mean        0.500002       0.500000       0.500000       0.500000\n",
       "std         0.288680       0.288679       0.288679       0.288679\n",
       "min         0.000000       0.000000       0.000000       0.000000\n",
       "25%         0.250001       0.250000       0.250000       0.250000\n",
       "50%         0.500002       0.500000       0.500000       0.500000\n",
       "75%         0.750003       0.750000       0.750000       0.750000\n",
       "max         1.000000       1.000000       1.000000       1.000000"
      ]
     },
     "execution_count": 127,
     "metadata": {},
     "output_type": "execute_result"
    }
   ],
   "source": [
    "rank_frame_norm = (rank_frame - rank_frame.min()) / (rank_frame.max() - rank_frame.min())\n",
    "rank_frame_norm.describe() "
   ]
  },
  {
   "cell_type": "code",
   "execution_count": 128,
   "metadata": {
    "collapsed": true
   },
   "outputs": [],
   "source": [
    "geom_av_res_3 =pd.DataFrame(gmean(rank_frame_norm, axis=1))\n",
    "geom_av_res_3.index = frame.index\n",
    "\n",
    "\n",
    "\n",
    "submission = pd.DataFrame({\"ID\": geom_av_res_3.index,  \"PredictedProb\": geom_av_res_3.iloc[:,0]})\n",
    "#av_res[av_res.columns[0]]\n",
    "#av_res.icol(0)\n",
    "submission.to_csv(\"/home/nazarov/07-competitions/04-Paribas/geom_av_res_ranks_4.csv\", index=False)\n"
   ]
  },
  {
   "cell_type": "code",
   "execution_count": null,
   "metadata": {
    "collapsed": true
   },
   "outputs": [],
   "source": []
  }
 ],
 "metadata": {
  "kernelspec": {
   "display_name": "Python 3",
   "language": "python",
   "name": "python3"
  },
  "language_info": {
   "codemirror_mode": {
    "name": "ipython",
    "version": 3
   },
   "file_extension": ".py",
   "mimetype": "text/x-python",
   "name": "python",
   "nbconvert_exporter": "python",
   "pygments_lexer": "ipython3",
   "version": "3.5.1"
  }
 },
 "nbformat": 4,
 "nbformat_minor": 0
}
